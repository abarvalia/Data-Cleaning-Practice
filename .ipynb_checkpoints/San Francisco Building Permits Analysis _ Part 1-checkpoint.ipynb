{
 "cells": [
  {
   "cell_type": "code",
   "execution_count": 30,
   "metadata": {},
   "outputs": [],
   "source": [
    "#Hi there! In this notebook, I will be analyzing a dataset called \"Building_Permits.csv\" which contains information on \n",
    "#building permits applications in San Francisco from Jan 2013 to Feb 2018. This is the link to the dataset, which I \n",
    "#found on Kaggle: https://www.kaggle.com/aparnashastry/building-permit-applications-data\n",
    "\n",
    "#The questions that I will try to answer using the dataset are:\n",
    "#1) How many permits were completed per month and per year in San Francisco?\n",
    "#2) What was the most likely kind of completed permit, per neighborhood, in San Francisco?\n",
    "\n",
    "#This notebook will deal with the first question. I've uploaded a second notebook with the title \"San Francisco \n",
    "#Building Permits Analysis _ Part 2 in which I analyze the second question. "
   ]
  },
  {
   "cell_type": "code",
   "execution_count": null,
   "metadata": {},
   "outputs": [],
   "source": [
    "#Let's get started. First, let's import the Pandas package to use for the analysis. The Pandas package also allows the\n",
    "#user access to matplotlib functionality, which is another Python package that can help us with visualizing our results. \n",
    "\n",
    "import pandas as pd"
   ]
  },
  {
   "cell_type": "code",
   "execution_count": 2,
   "metadata": {},
   "outputs": [
    {
     "name": "stderr",
     "output_type": "stream",
     "text": [
      "/Users/Admin/anaconda3/lib/python3.6/site-packages/IPython/core/interactiveshell.py:2728: DtypeWarning: Columns (22,32) have mixed types. Specify dtype option on import or set low_memory=False.\n",
      "  interactivity=interactivity, compiler=compiler, result=result)\n"
     ]
    }
   ],
   "source": [
    "#Now let's read in our dataset and take a quick look at it. \n",
    "sf_permits = pd.read_csv(\"Building_Permits.csv\")"
   ]
  },
  {
   "cell_type": "code",
   "execution_count": 3,
   "metadata": {},
   "outputs": [
    {
     "data": {
      "text/html": [
       "<div>\n",
       "<style scoped>\n",
       "    .dataframe tbody tr th:only-of-type {\n",
       "        vertical-align: middle;\n",
       "    }\n",
       "\n",
       "    .dataframe tbody tr th {\n",
       "        vertical-align: top;\n",
       "    }\n",
       "\n",
       "    .dataframe thead th {\n",
       "        text-align: right;\n",
       "    }\n",
       "</style>\n",
       "<table border=\"1\" class=\"dataframe\">\n",
       "  <thead>\n",
       "    <tr style=\"text-align: right;\">\n",
       "      <th></th>\n",
       "      <th>Permit Number</th>\n",
       "      <th>Permit Type</th>\n",
       "      <th>Permit Type Definition</th>\n",
       "      <th>Permit Creation Date</th>\n",
       "      <th>Block</th>\n",
       "      <th>Lot</th>\n",
       "      <th>Street Number</th>\n",
       "      <th>Street Number Suffix</th>\n",
       "      <th>Street Name</th>\n",
       "      <th>Street Suffix</th>\n",
       "      <th>...</th>\n",
       "      <th>Existing Construction Type</th>\n",
       "      <th>Existing Construction Type Description</th>\n",
       "      <th>Proposed Construction Type</th>\n",
       "      <th>Proposed Construction Type Description</th>\n",
       "      <th>Site Permit</th>\n",
       "      <th>Supervisor District</th>\n",
       "      <th>Neighborhoods - Analysis Boundaries</th>\n",
       "      <th>Zipcode</th>\n",
       "      <th>Location</th>\n",
       "      <th>Record ID</th>\n",
       "    </tr>\n",
       "  </thead>\n",
       "  <tbody>\n",
       "    <tr>\n",
       "      <th>0</th>\n",
       "      <td>201505065519</td>\n",
       "      <td>4</td>\n",
       "      <td>sign - erect</td>\n",
       "      <td>05/06/2015</td>\n",
       "      <td>0326</td>\n",
       "      <td>023</td>\n",
       "      <td>140</td>\n",
       "      <td>NaN</td>\n",
       "      <td>Ellis</td>\n",
       "      <td>St</td>\n",
       "      <td>...</td>\n",
       "      <td>3.0</td>\n",
       "      <td>constr type 3</td>\n",
       "      <td>NaN</td>\n",
       "      <td>NaN</td>\n",
       "      <td>NaN</td>\n",
       "      <td>3.0</td>\n",
       "      <td>Tenderloin</td>\n",
       "      <td>94102.0</td>\n",
       "      <td>(37.785719256680785, -122.40852313194863)</td>\n",
       "      <td>1380611233945</td>\n",
       "    </tr>\n",
       "    <tr>\n",
       "      <th>1</th>\n",
       "      <td>201604195146</td>\n",
       "      <td>4</td>\n",
       "      <td>sign - erect</td>\n",
       "      <td>04/19/2016</td>\n",
       "      <td>0306</td>\n",
       "      <td>007</td>\n",
       "      <td>440</td>\n",
       "      <td>NaN</td>\n",
       "      <td>Geary</td>\n",
       "      <td>St</td>\n",
       "      <td>...</td>\n",
       "      <td>3.0</td>\n",
       "      <td>constr type 3</td>\n",
       "      <td>NaN</td>\n",
       "      <td>NaN</td>\n",
       "      <td>NaN</td>\n",
       "      <td>3.0</td>\n",
       "      <td>Tenderloin</td>\n",
       "      <td>94102.0</td>\n",
       "      <td>(37.78733980600732, -122.41063199757738)</td>\n",
       "      <td>1420164406718</td>\n",
       "    </tr>\n",
       "    <tr>\n",
       "      <th>2</th>\n",
       "      <td>201605278609</td>\n",
       "      <td>3</td>\n",
       "      <td>additions alterations or repairs</td>\n",
       "      <td>05/27/2016</td>\n",
       "      <td>0595</td>\n",
       "      <td>203</td>\n",
       "      <td>1647</td>\n",
       "      <td>NaN</td>\n",
       "      <td>Pacific</td>\n",
       "      <td>Av</td>\n",
       "      <td>...</td>\n",
       "      <td>1.0</td>\n",
       "      <td>constr type 1</td>\n",
       "      <td>1.0</td>\n",
       "      <td>constr type 1</td>\n",
       "      <td>NaN</td>\n",
       "      <td>3.0</td>\n",
       "      <td>Russian Hill</td>\n",
       "      <td>94109.0</td>\n",
       "      <td>(37.7946573324287, -122.42232562979227)</td>\n",
       "      <td>1424856504716</td>\n",
       "    </tr>\n",
       "    <tr>\n",
       "      <th>3</th>\n",
       "      <td>201611072166</td>\n",
       "      <td>8</td>\n",
       "      <td>otc alterations permit</td>\n",
       "      <td>11/07/2016</td>\n",
       "      <td>0156</td>\n",
       "      <td>011</td>\n",
       "      <td>1230</td>\n",
       "      <td>NaN</td>\n",
       "      <td>Pacific</td>\n",
       "      <td>Av</td>\n",
       "      <td>...</td>\n",
       "      <td>5.0</td>\n",
       "      <td>wood frame (5)</td>\n",
       "      <td>5.0</td>\n",
       "      <td>wood frame (5)</td>\n",
       "      <td>NaN</td>\n",
       "      <td>3.0</td>\n",
       "      <td>Nob Hill</td>\n",
       "      <td>94109.0</td>\n",
       "      <td>(37.79595867909168, -122.41557405519474)</td>\n",
       "      <td>1443574295566</td>\n",
       "    </tr>\n",
       "    <tr>\n",
       "      <th>4</th>\n",
       "      <td>201611283529</td>\n",
       "      <td>6</td>\n",
       "      <td>demolitions</td>\n",
       "      <td>11/28/2016</td>\n",
       "      <td>0342</td>\n",
       "      <td>001</td>\n",
       "      <td>950</td>\n",
       "      <td>NaN</td>\n",
       "      <td>Market</td>\n",
       "      <td>St</td>\n",
       "      <td>...</td>\n",
       "      <td>3.0</td>\n",
       "      <td>constr type 3</td>\n",
       "      <td>NaN</td>\n",
       "      <td>NaN</td>\n",
       "      <td>NaN</td>\n",
       "      <td>6.0</td>\n",
       "      <td>Tenderloin</td>\n",
       "      <td>94102.0</td>\n",
       "      <td>(37.78315261897309, -122.40950883997789)</td>\n",
       "      <td>144548169992</td>\n",
       "    </tr>\n",
       "  </tbody>\n",
       "</table>\n",
       "<p>5 rows × 43 columns</p>\n",
       "</div>"
      ],
      "text/plain": [
       "  Permit Number  Permit Type            Permit Type Definition  \\\n",
       "0  201505065519            4                      sign - erect   \n",
       "1  201604195146            4                      sign - erect   \n",
       "2  201605278609            3  additions alterations or repairs   \n",
       "3  201611072166            8            otc alterations permit   \n",
       "4  201611283529            6                       demolitions   \n",
       "\n",
       "  Permit Creation Date Block  Lot  Street Number Street Number Suffix  \\\n",
       "0           05/06/2015  0326  023            140                  NaN   \n",
       "1           04/19/2016  0306  007            440                  NaN   \n",
       "2           05/27/2016  0595  203           1647                  NaN   \n",
       "3           11/07/2016  0156  011           1230                  NaN   \n",
       "4           11/28/2016  0342  001            950                  NaN   \n",
       "\n",
       "  Street Name Street Suffix      ...        Existing Construction Type  \\\n",
       "0       Ellis            St      ...                               3.0   \n",
       "1       Geary            St      ...                               3.0   \n",
       "2     Pacific            Av      ...                               1.0   \n",
       "3     Pacific            Av      ...                               5.0   \n",
       "4      Market            St      ...                               3.0   \n",
       "\n",
       "  Existing Construction Type Description Proposed Construction Type  \\\n",
       "0                          constr type 3                        NaN   \n",
       "1                          constr type 3                        NaN   \n",
       "2                          constr type 1                        1.0   \n",
       "3                         wood frame (5)                        5.0   \n",
       "4                          constr type 3                        NaN   \n",
       "\n",
       "  Proposed Construction Type Description Site Permit Supervisor District  \\\n",
       "0                                    NaN         NaN                 3.0   \n",
       "1                                    NaN         NaN                 3.0   \n",
       "2                          constr type 1         NaN                 3.0   \n",
       "3                         wood frame (5)         NaN                 3.0   \n",
       "4                                    NaN         NaN                 6.0   \n",
       "\n",
       "  Neighborhoods - Analysis Boundaries  Zipcode  \\\n",
       "0                          Tenderloin  94102.0   \n",
       "1                          Tenderloin  94102.0   \n",
       "2                        Russian Hill  94109.0   \n",
       "3                            Nob Hill  94109.0   \n",
       "4                          Tenderloin  94102.0   \n",
       "\n",
       "                                    Location      Record ID  \n",
       "0  (37.785719256680785, -122.40852313194863)  1380611233945  \n",
       "1   (37.78733980600732, -122.41063199757738)  1420164406718  \n",
       "2    (37.7946573324287, -122.42232562979227)  1424856504716  \n",
       "3   (37.79595867909168, -122.41557405519474)  1443574295566  \n",
       "4   (37.78315261897309, -122.40950883997789)   144548169992  \n",
       "\n",
       "[5 rows x 43 columns]"
      ]
     },
     "execution_count": 3,
     "metadata": {},
     "output_type": "execute_result"
    }
   ],
   "source": [
    "sf_permits.head()\n",
    "#Our dataset has 43 columns. Additionally, our primary key is Permit Number - so each row signifies one permit."
   ]
  },
  {
   "cell_type": "code",
   "execution_count": 86,
   "metadata": {},
   "outputs": [
    {
     "data": {
      "text/plain": [
       "(198900, 43)"
      ]
     },
     "execution_count": 86,
     "metadata": {},
     "output_type": "execute_result"
    }
   ],
   "source": [
    "#This dataset has 198,900 rows and 43 columns. \n",
    "sf_permits.shape"
   ]
  },
  {
   "cell_type": "code",
   "execution_count": 31,
   "metadata": {},
   "outputs": [
    {
     "name": "stdout",
     "output_type": "stream",
     "text": [
      "<class 'pandas.core.frame.DataFrame'>\n",
      "RangeIndex: 198900 entries, 0 to 198899\n",
      "Data columns (total 43 columns):\n",
      "Permit Number                             198900 non-null object\n",
      "Permit Type                               198900 non-null int64\n",
      "Permit Type Definition                    198900 non-null object\n",
      "Permit Creation Date                      198900 non-null object\n",
      "Block                                     198900 non-null object\n",
      "Lot                                       198900 non-null object\n",
      "Street Number                             198900 non-null int64\n",
      "Street Number Suffix                      2216 non-null object\n",
      "Street Name                               198900 non-null object\n",
      "Street Suffix                             196132 non-null object\n",
      "Unit                                      29479 non-null float64\n",
      "Unit Suffix                               1961 non-null object\n",
      "Description                               198610 non-null object\n",
      "Current Status                            198900 non-null object\n",
      "Current Status Date                       198900 non-null object\n",
      "Filed Date                                198900 non-null object\n",
      "Issued Date                               183960 non-null object\n",
      "Completed Date                            97191 non-null object\n",
      "First Construction Document Date          183954 non-null object\n",
      "Structural Notification                   6922 non-null object\n",
      "Number of Existing Stories                156116 non-null float64\n",
      "Number of Proposed Stories                156032 non-null float64\n",
      "Voluntary Soft-Story Retrofit             35 non-null object\n",
      "Fire Only Permit                          18827 non-null object\n",
      "Permit Expiration Date                    147020 non-null object\n",
      "Estimated Cost                            160834 non-null float64\n",
      "Revised Cost                              192834 non-null float64\n",
      "Existing Use                              157786 non-null object\n",
      "Existing Units                            147362 non-null float64\n",
      "Proposed Use                              156461 non-null object\n",
      "Proposed Units                            147989 non-null float64\n",
      "Plansets                                  161591 non-null float64\n",
      "TIDF Compliance                           2 non-null object\n",
      "Existing Construction Type                155534 non-null float64\n",
      "Existing Construction Type Description    155534 non-null object\n",
      "Proposed Construction Type                155738 non-null float64\n",
      "Proposed Construction Type Description    155738 non-null object\n",
      "Site Permit                               5359 non-null object\n",
      "Supervisor District                       197183 non-null float64\n",
      "Neighborhoods - Analysis Boundaries       197175 non-null object\n",
      "Zipcode                                   197184 non-null float64\n",
      "Location                                  197200 non-null object\n",
      "Record ID                                 198900 non-null int64\n",
      "dtypes: float64(12), int64(3), object(28)\n",
      "memory usage: 65.3+ MB\n"
     ]
    }
   ],
   "source": [
    "#Let's get a bit more information on the dataset as a whole. \n",
    "sf_permits.info()"
   ]
  },
  {
   "cell_type": "code",
   "execution_count": 33,
   "metadata": {},
   "outputs": [
    {
     "data": {
      "text/plain": [
       "Street Number Suffix                      196684\n",
       "Street Suffix                               2768\n",
       "Unit                                      169421\n",
       "Unit Suffix                               196939\n",
       "Description                                  290\n",
       "Issued Date                                14940\n",
       "Completed Date                            101709\n",
       "First Construction Document Date           14946\n",
       "Structural Notification                   191978\n",
       "Number of Existing Stories                 42784\n",
       "Number of Proposed Stories                 42868\n",
       "Voluntary Soft-Story Retrofit             198865\n",
       "Fire Only Permit                          180073\n",
       "Permit Expiration Date                     51880\n",
       "Estimated Cost                             38066\n",
       "Revised Cost                                6066\n",
       "Existing Use                               41114\n",
       "Existing Units                             51538\n",
       "Proposed Use                               42439\n",
       "Proposed Units                             50911\n",
       "Plansets                                   37309\n",
       "TIDF Compliance                           198898\n",
       "Existing Construction Type                 43366\n",
       "Existing Construction Type Description     43366\n",
       "Proposed Construction Type                 43162\n",
       "Proposed Construction Type Description     43162\n",
       "Site Permit                               193541\n",
       "Supervisor District                         1717\n",
       "Neighborhoods - Analysis Boundaries         1725\n",
       "Zipcode                                     1716\n",
       "Location                                    1700\n",
       "dtype: int64"
      ]
     },
     "execution_count": 33,
     "metadata": {},
     "output_type": "execute_result"
    }
   ],
   "source": [
    "#It looks like there might be some nulls in each of the columns. Let's get an overview of how many nulls there are \n",
    "#per column. \n",
    "\n",
    "null_columns=sf_permits.columns[sf_permits.isnull().any()]\n",
    "sf_permits[null_columns].isnull().sum()\n",
    "\n",
    "#This chart tells us the number of null fields by column. This let's me know that I'll have some data cleaning to do."
   ]
  },
  {
   "cell_type": "code",
   "execution_count": 187,
   "metadata": {},
   "outputs": [],
   "source": [
    "#Without further ado, let's get started!\n",
    "###Question 1 for Analysis:\n",
    "###What are the total number of completed permits by month / year?\n",
    "\n",
    "#This analysis should produce a dataframe containing the number of completed permits by month/year and a visualization\n",
    "#that displays this information as well. "
   ]
  },
  {
   "cell_type": "code",
   "execution_count": 27,
   "metadata": {
    "scrolled": true
   },
   "outputs": [
    {
     "data": {
      "text/html": [
       "<div>\n",
       "<style scoped>\n",
       "    .dataframe tbody tr th:only-of-type {\n",
       "        vertical-align: middle;\n",
       "    }\n",
       "\n",
       "    .dataframe tbody tr th {\n",
       "        vertical-align: top;\n",
       "    }\n",
       "\n",
       "    .dataframe thead th {\n",
       "        text-align: right;\n",
       "    }\n",
       "</style>\n",
       "<table border=\"1\" class=\"dataframe\">\n",
       "  <thead>\n",
       "    <tr style=\"text-align: right;\">\n",
       "      <th></th>\n",
       "      <th>Permit Number</th>\n",
       "      <th>Current Status</th>\n",
       "      <th>Completed Date</th>\n",
       "    </tr>\n",
       "  </thead>\n",
       "  <tbody>\n",
       "    <tr>\n",
       "      <th>0</th>\n",
       "      <td>201505065519</td>\n",
       "      <td>expired</td>\n",
       "      <td>NaN</td>\n",
       "    </tr>\n",
       "    <tr>\n",
       "      <th>1</th>\n",
       "      <td>201604195146</td>\n",
       "      <td>issued</td>\n",
       "      <td>NaN</td>\n",
       "    </tr>\n",
       "    <tr>\n",
       "      <th>2</th>\n",
       "      <td>201605278609</td>\n",
       "      <td>withdrawn</td>\n",
       "      <td>NaN</td>\n",
       "    </tr>\n",
       "    <tr>\n",
       "      <th>3</th>\n",
       "      <td>201611072166</td>\n",
       "      <td>complete</td>\n",
       "      <td>07/24/2017</td>\n",
       "    </tr>\n",
       "    <tr>\n",
       "      <th>4</th>\n",
       "      <td>201611283529</td>\n",
       "      <td>issued</td>\n",
       "      <td>NaN</td>\n",
       "    </tr>\n",
       "  </tbody>\n",
       "</table>\n",
       "</div>"
      ],
      "text/plain": [
       "  Permit Number Current Status Completed Date\n",
       "0  201505065519        expired            NaN\n",
       "1  201604195146         issued            NaN\n",
       "2  201605278609      withdrawn            NaN\n",
       "3  201611072166       complete     07/24/2017\n",
       "4  201611283529         issued            NaN"
      ]
     },
     "execution_count": 27,
     "metadata": {},
     "output_type": "execute_result"
    }
   ],
   "source": [
    "#Let's first create a new dataframe with only the Permit Number, Current Status, and Completed Date columns from the \n",
    "#dataset. \n",
    "\n",
    "df = sf_permits[['Permit Number','Current Status','Completed Date']]\n",
    "df.head()"
   ]
  },
  {
   "cell_type": "code",
   "execution_count": 93,
   "metadata": {},
   "outputs": [
    {
     "data": {
      "text/plain": [
       "True"
      ]
     },
     "execution_count": 93,
     "metadata": {},
     "output_type": "execute_result"
    }
   ],
   "source": [
    "#The table I created above on the nulls in the dataset let's us know that Completed Date has 101,709 null values,\n",
    "#and Permit Number and Current Status do not have any null values. Let's confirm that here. \n",
    "df.isnull().values.any()"
   ]
  },
  {
   "cell_type": "code",
   "execution_count": 94,
   "metadata": {
    "scrolled": true
   },
   "outputs": [
    {
     "data": {
      "text/plain": [
       "False"
      ]
     },
     "execution_count": 94,
     "metadata": {},
     "output_type": "execute_result"
    }
   ],
   "source": [
    "#Let's remove all rows containing null values. \n",
    "df2 = df.dropna()\n",
    "df2.isnull().values.any()"
   ]
  },
  {
   "cell_type": "code",
   "execution_count": 92,
   "metadata": {},
   "outputs": [
    {
     "data": {
      "text/html": [
       "<div>\n",
       "<style scoped>\n",
       "    .dataframe tbody tr th:only-of-type {\n",
       "        vertical-align: middle;\n",
       "    }\n",
       "\n",
       "    .dataframe tbody tr th {\n",
       "        vertical-align: top;\n",
       "    }\n",
       "\n",
       "    .dataframe thead th {\n",
       "        text-align: right;\n",
       "    }\n",
       "</style>\n",
       "<table border=\"1\" class=\"dataframe\">\n",
       "  <thead>\n",
       "    <tr style=\"text-align: right;\">\n",
       "      <th></th>\n",
       "      <th>Permit Number</th>\n",
       "      <th>Current Status</th>\n",
       "      <th>Completed Date</th>\n",
       "    </tr>\n",
       "  </thead>\n",
       "  <tbody>\n",
       "    <tr>\n",
       "      <th>3</th>\n",
       "      <td>201611072166</td>\n",
       "      <td>complete</td>\n",
       "      <td>07/24/2017</td>\n",
       "    </tr>\n",
       "    <tr>\n",
       "      <th>6</th>\n",
       "      <td>201706300814</td>\n",
       "      <td>complete</td>\n",
       "      <td>07/12/2017</td>\n",
       "    </tr>\n",
       "    <tr>\n",
       "      <th>48</th>\n",
       "      <td>201710110928</td>\n",
       "      <td>complete</td>\n",
       "      <td>10/31/2017</td>\n",
       "    </tr>\n",
       "    <tr>\n",
       "      <th>91</th>\n",
       "      <td>201407080724</td>\n",
       "      <td>complete</td>\n",
       "      <td>09/08/2017</td>\n",
       "    </tr>\n",
       "    <tr>\n",
       "      <th>92</th>\n",
       "      <td>201408254591</td>\n",
       "      <td>complete</td>\n",
       "      <td>10/04/2017</td>\n",
       "    </tr>\n",
       "  </tbody>\n",
       "</table>\n",
       "</div>"
      ],
      "text/plain": [
       "   Permit Number Current Status Completed Date\n",
       "3   201611072166       complete     07/24/2017\n",
       "6   201706300814       complete     07/12/2017\n",
       "48  201710110928       complete     10/31/2017\n",
       "91  201407080724       complete     09/08/2017\n",
       "92  201408254591       complete     10/04/2017"
      ]
     },
     "execution_count": 92,
     "metadata": {},
     "output_type": "execute_result"
    }
   ],
   "source": [
    "df2.head()"
   ]
  },
  {
   "cell_type": "code",
   "execution_count": 90,
   "metadata": {},
   "outputs": [
    {
     "data": {
      "text/plain": [
       "(97191, 3)"
      ]
     },
     "execution_count": 90,
     "metadata": {},
     "output_type": "execute_result"
    }
   ],
   "source": [
    "#Great. Now that all rows with nulls have been removed, we can see that we're now working with ~97k rows of data\n",
    "df2.shape"
   ]
  },
  {
   "cell_type": "code",
   "execution_count": 95,
   "metadata": {},
   "outputs": [
    {
     "data": {
      "text/html": [
       "<div>\n",
       "<style scoped>\n",
       "    .dataframe tbody tr th:only-of-type {\n",
       "        vertical-align: middle;\n",
       "    }\n",
       "\n",
       "    .dataframe tbody tr th {\n",
       "        vertical-align: top;\n",
       "    }\n",
       "\n",
       "    .dataframe thead th {\n",
       "        text-align: right;\n",
       "    }\n",
       "</style>\n",
       "<table border=\"1\" class=\"dataframe\">\n",
       "  <thead>\n",
       "    <tr style=\"text-align: right;\">\n",
       "      <th></th>\n",
       "      <th>Permit Number</th>\n",
       "      <th>Current Status</th>\n",
       "      <th>Completed Date</th>\n",
       "    </tr>\n",
       "  </thead>\n",
       "  <tbody>\n",
       "    <tr>\n",
       "      <th>3</th>\n",
       "      <td>201611072166</td>\n",
       "      <td>complete</td>\n",
       "      <td>07/24/2017</td>\n",
       "    </tr>\n",
       "    <tr>\n",
       "      <th>6</th>\n",
       "      <td>201706300814</td>\n",
       "      <td>complete</td>\n",
       "      <td>07/12/2017</td>\n",
       "    </tr>\n",
       "    <tr>\n",
       "      <th>48</th>\n",
       "      <td>201710110928</td>\n",
       "      <td>complete</td>\n",
       "      <td>10/31/2017</td>\n",
       "    </tr>\n",
       "    <tr>\n",
       "      <th>91</th>\n",
       "      <td>201407080724</td>\n",
       "      <td>complete</td>\n",
       "      <td>09/08/2017</td>\n",
       "    </tr>\n",
       "    <tr>\n",
       "      <th>92</th>\n",
       "      <td>201408254591</td>\n",
       "      <td>complete</td>\n",
       "      <td>10/04/2017</td>\n",
       "    </tr>\n",
       "  </tbody>\n",
       "</table>\n",
       "</div>"
      ],
      "text/plain": [
       "   Permit Number Current Status Completed Date\n",
       "3   201611072166       complete     07/24/2017\n",
       "6   201706300814       complete     07/12/2017\n",
       "48  201710110928       complete     10/31/2017\n",
       "91  201407080724       complete     09/08/2017\n",
       "92  201408254591       complete     10/04/2017"
      ]
     },
     "execution_count": 95,
     "metadata": {},
     "output_type": "execute_result"
    }
   ],
   "source": [
    "#Now, let's modify the dataframe to show only those rows that have a \"complete\" in the Current Status column, since we\n",
    "#want to include only those permit applications that are marked as \"complete\" in our analysis. \n",
    "df3 = df2[df2['Current Status']=='complete']\n",
    "df3.head()"
   ]
  },
  {
   "cell_type": "code",
   "execution_count": 96,
   "metadata": {},
   "outputs": [
    {
     "data": {
      "text/plain": [
       "array(['complete'], dtype=object)"
      ]
     },
     "execution_count": 96,
     "metadata": {},
     "output_type": "execute_result"
    }
   ],
   "source": [
    "#Great. Let's just verify that there are only \"complete\" permits in this data frame.\n",
    "df3['Current Status'].unique()"
   ]
  },
  {
   "cell_type": "code",
   "execution_count": 99,
   "metadata": {},
   "outputs": [
    {
     "data": {
      "text/html": [
       "<div>\n",
       "<style scoped>\n",
       "    .dataframe tbody tr th:only-of-type {\n",
       "        vertical-align: middle;\n",
       "    }\n",
       "\n",
       "    .dataframe tbody tr th {\n",
       "        vertical-align: top;\n",
       "    }\n",
       "\n",
       "    .dataframe thead th {\n",
       "        text-align: right;\n",
       "    }\n",
       "</style>\n",
       "<table border=\"1\" class=\"dataframe\">\n",
       "  <thead>\n",
       "    <tr style=\"text-align: right;\">\n",
       "      <th></th>\n",
       "      <th>Permit Number</th>\n",
       "      <th>Current Status</th>\n",
       "      <th>Completed Date</th>\n",
       "    </tr>\n",
       "  </thead>\n",
       "  <tbody>\n",
       "  </tbody>\n",
       "</table>\n",
       "</div>"
      ],
      "text/plain": [
       "Empty DataFrame\n",
       "Columns: [Permit Number, Current Status, Completed Date]\n",
       "Index: []"
      ]
     },
     "execution_count": 99,
     "metadata": {},
     "output_type": "execute_result"
    }
   ],
   "source": [
    "#Great. Again, let's do a sanity check one more time. Let's show all rows with missing data:\n",
    "df3[pd.isnull(df3).any(axis=1)]"
   ]
  },
  {
   "cell_type": "code",
   "execution_count": 100,
   "metadata": {},
   "outputs": [
    {
     "data": {
      "text/html": [
       "<div>\n",
       "<style scoped>\n",
       "    .dataframe tbody tr th:only-of-type {\n",
       "        vertical-align: middle;\n",
       "    }\n",
       "\n",
       "    .dataframe tbody tr th {\n",
       "        vertical-align: top;\n",
       "    }\n",
       "\n",
       "    .dataframe thead th {\n",
       "        text-align: right;\n",
       "    }\n",
       "</style>\n",
       "<table border=\"1\" class=\"dataframe\">\n",
       "  <thead>\n",
       "    <tr style=\"text-align: right;\">\n",
       "      <th></th>\n",
       "      <th>Permit Number</th>\n",
       "      <th>Current Status</th>\n",
       "      <th>Completed Date</th>\n",
       "    </tr>\n",
       "  </thead>\n",
       "  <tbody>\n",
       "    <tr>\n",
       "      <th>count</th>\n",
       "      <td>97077</td>\n",
       "      <td>97077</td>\n",
       "      <td>97077</td>\n",
       "    </tr>\n",
       "    <tr>\n",
       "      <th>unique</th>\n",
       "      <td>88842</td>\n",
       "      <td>1</td>\n",
       "      <td>1300</td>\n",
       "    </tr>\n",
       "    <tr>\n",
       "      <th>top</th>\n",
       "      <td>201602179758</td>\n",
       "      <td>complete</td>\n",
       "      <td>10/30/2015</td>\n",
       "    </tr>\n",
       "    <tr>\n",
       "      <th>freq</th>\n",
       "      <td>66</td>\n",
       "      <td>97077</td>\n",
       "      <td>206</td>\n",
       "    </tr>\n",
       "  </tbody>\n",
       "</table>\n",
       "</div>"
      ],
      "text/plain": [
       "       Permit Number Current Status Completed Date\n",
       "count          97077          97077          97077\n",
       "unique         88842              1           1300\n",
       "top     201602179758       complete     10/30/2015\n",
       "freq              66          97077            206"
      ]
     },
     "execution_count": 100,
     "metadata": {},
     "output_type": "execute_result"
    }
   ],
   "source": [
    "#Looks like we're good on missing values. Now let's get a summary of the data to see if there's any more issues with it\n",
    "df3.describe()"
   ]
  },
  {
   "cell_type": "code",
   "execution_count": 191,
   "metadata": {
    "scrolled": true
   },
   "outputs": [
    {
     "data": {
      "text/plain": [
       "8235"
      ]
     },
     "execution_count": 191,
     "metadata": {},
     "output_type": "execute_result"
    }
   ],
   "source": [
    "#It looks like there must be duplicate rows since there are ~85k unique permits out of 97k permits in the dataframe.\n",
    "#Let's first find out how many entire rows are duplicates of one another. \n",
    "df3.duplicated().sum()"
   ]
  },
  {
   "cell_type": "code",
   "execution_count": 193,
   "metadata": {},
   "outputs": [
    {
     "data": {
      "text/plain": [
       "3         False\n",
       "6         False\n",
       "48        False\n",
       "91        False\n",
       "92        False\n",
       "98        False\n",
       "99        False\n",
       "101       False\n",
       "104       False\n",
       "105       False\n",
       "107       False\n",
       "108       False\n",
       "109       False\n",
       "110       False\n",
       "111       False\n",
       "113       False\n",
       "114       False\n",
       "117       False\n",
       "120       False\n",
       "121       False\n",
       "122       False\n",
       "123       False\n",
       "126       False\n",
       "128       False\n",
       "129       False\n",
       "130       False\n",
       "131       False\n",
       "132       False\n",
       "133       False\n",
       "135       False\n",
       "          ...  \n",
       "197524    False\n",
       "197531    False\n",
       "197575    False\n",
       "197579    False\n",
       "197581    False\n",
       "197634     True\n",
       "197691    False\n",
       "197693     True\n",
       "197761    False\n",
       "197786    False\n",
       "197826    False\n",
       "197990    False\n",
       "198092    False\n",
       "198093    False\n",
       "198135    False\n",
       "198162    False\n",
       "198175    False\n",
       "198191    False\n",
       "198193    False\n",
       "198314    False\n",
       "198396    False\n",
       "198397    False\n",
       "198418    False\n",
       "198459    False\n",
       "198469     True\n",
       "198715    False\n",
       "198887    False\n",
       "198888    False\n",
       "198889    False\n",
       "198893    False\n",
       "Name: Permit Number, Length: 97077, dtype: bool"
      ]
     },
     "execution_count": 193,
     "metadata": {},
     "output_type": "execute_result"
    }
   ],
   "source": [
    "#Okay. Now let's also find out which columns have duplicate values. It seems that 'Permit Number' and 'Completed Date'\n",
    "#are the only two columns which have duplicates (since Current Status has \"complete\" for all of its values). However,\n",
    "#it would make sense that there are duplicate Completed Dates, since some permits could've had the same Completed Date.\n",
    "#That is entirely possible, and we don't want to delete things from the Completed Date column willy nilly in that case.\n",
    "#So let's look at whether the 'Permit Number' column has any duplicates. \n",
    "\n",
    "df3['Permit Number'].duplicated()"
   ]
  },
  {
   "cell_type": "code",
   "execution_count": 102,
   "metadata": {},
   "outputs": [
    {
     "data": {
      "text/plain": [
       "8235"
      ]
     },
     "execution_count": 102,
     "metadata": {},
     "output_type": "execute_result"
    }
   ],
   "source": [
    "#So we do have some duplicated permit numbers. How many duplicates are there?\n",
    "df3['Permit Number'].duplicated().sum()"
   ]
  },
  {
   "cell_type": "code",
   "execution_count": 196,
   "metadata": {
    "scrolled": false
   },
   "outputs": [],
   "source": [
    "#Ah, so the number of total duplicated permit numbers is the same as the number of rows in the dataframe that are\n",
    "#entirely the same. This means we should focus on getting rid of the duplicate permit numbers, since keeping them will\n",
    "#skew our analysis of the number of permit applications that were completed per month and per year.  \n",
    "#df3.loc[df3.duplicated(keep='first'), :]"
   ]
  },
  {
   "cell_type": "code",
   "execution_count": 105,
   "metadata": {
    "scrolled": false
   },
   "outputs": [
    {
     "data": {
      "text/html": [
       "<div>\n",
       "<style scoped>\n",
       "    .dataframe tbody tr th:only-of-type {\n",
       "        vertical-align: middle;\n",
       "    }\n",
       "\n",
       "    .dataframe tbody tr th {\n",
       "        vertical-align: top;\n",
       "    }\n",
       "\n",
       "    .dataframe thead th {\n",
       "        text-align: right;\n",
       "    }\n",
       "</style>\n",
       "<table border=\"1\" class=\"dataframe\">\n",
       "  <thead>\n",
       "    <tr style=\"text-align: right;\">\n",
       "      <th></th>\n",
       "      <th>Permit Number</th>\n",
       "      <th>Current Status</th>\n",
       "      <th>Completed Date</th>\n",
       "    </tr>\n",
       "  </thead>\n",
       "  <tbody>\n",
       "    <tr>\n",
       "      <th>count</th>\n",
       "      <td>88842</td>\n",
       "      <td>88842</td>\n",
       "      <td>88842</td>\n",
       "    </tr>\n",
       "    <tr>\n",
       "      <th>unique</th>\n",
       "      <td>88842</td>\n",
       "      <td>1</td>\n",
       "      <td>1300</td>\n",
       "    </tr>\n",
       "    <tr>\n",
       "      <th>top</th>\n",
       "      <td>201503090276</td>\n",
       "      <td>complete</td>\n",
       "      <td>10/30/2015</td>\n",
       "    </tr>\n",
       "    <tr>\n",
       "      <th>freq</th>\n",
       "      <td>1</td>\n",
       "      <td>88842</td>\n",
       "      <td>195</td>\n",
       "    </tr>\n",
       "  </tbody>\n",
       "</table>\n",
       "</div>"
      ],
      "text/plain": [
       "       Permit Number Current Status Completed Date\n",
       "count          88842          88842          88842\n",
       "unique         88842              1           1300\n",
       "top     201503090276       complete     10/30/2015\n",
       "freq               1          88842            195"
      ]
     },
     "execution_count": 105,
     "metadata": {},
     "output_type": "execute_result"
    }
   ],
   "source": [
    "#So it looks like we can go ahead and delete the duplicates (it's safe)\n",
    "df4 = df3.drop_duplicates()\n",
    "df4.describe()"
   ]
  },
  {
   "cell_type": "code",
   "execution_count": 197,
   "metadata": {
    "scrolled": false
   },
   "outputs": [
    {
     "data": {
      "text/html": [
       "<div>\n",
       "<style scoped>\n",
       "    .dataframe tbody tr th:only-of-type {\n",
       "        vertical-align: middle;\n",
       "    }\n",
       "\n",
       "    .dataframe tbody tr th {\n",
       "        vertical-align: top;\n",
       "    }\n",
       "\n",
       "    .dataframe thead th {\n",
       "        text-align: right;\n",
       "    }\n",
       "</style>\n",
       "<table border=\"1\" class=\"dataframe\">\n",
       "  <thead>\n",
       "    <tr style=\"text-align: right;\">\n",
       "      <th></th>\n",
       "      <th>Permit Number</th>\n",
       "      <th>Current Status</th>\n",
       "      <th>Completed_Date</th>\n",
       "    </tr>\n",
       "  </thead>\n",
       "  <tbody>\n",
       "    <tr>\n",
       "      <th>3</th>\n",
       "      <td>201611072166</td>\n",
       "      <td>complete</td>\n",
       "      <td>07/24/2017</td>\n",
       "    </tr>\n",
       "    <tr>\n",
       "      <th>6</th>\n",
       "      <td>201706300814</td>\n",
       "      <td>complete</td>\n",
       "      <td>07/12/2017</td>\n",
       "    </tr>\n",
       "    <tr>\n",
       "      <th>48</th>\n",
       "      <td>201710110928</td>\n",
       "      <td>complete</td>\n",
       "      <td>10/31/2017</td>\n",
       "    </tr>\n",
       "    <tr>\n",
       "      <th>91</th>\n",
       "      <td>201407080724</td>\n",
       "      <td>complete</td>\n",
       "      <td>09/08/2017</td>\n",
       "    </tr>\n",
       "    <tr>\n",
       "      <th>92</th>\n",
       "      <td>201408254591</td>\n",
       "      <td>complete</td>\n",
       "      <td>10/04/2017</td>\n",
       "    </tr>\n",
       "  </tbody>\n",
       "</table>\n",
       "</div>"
      ],
      "text/plain": [
       "   Permit Number Current Status Completed_Date\n",
       "3   201611072166       complete     07/24/2017\n",
       "6   201706300814       complete     07/12/2017\n",
       "48  201710110928       complete     10/31/2017\n",
       "91  201407080724       complete     09/08/2017\n",
       "92  201408254591       complete     10/04/2017"
      ]
     },
     "execution_count": 197,
     "metadata": {},
     "output_type": "execute_result"
    }
   ],
   "source": [
    "#Great. The data is all clean. Let's begin our analysis. Now that we've ensured we have only those permit applications\n",
    "#that are complete and we're working with the right amount of permit applications (duplicates are gone)\n",
    "#let's separate out the month and the year from our Completed Date column so that they're easier to group our dataframe\n",
    "#by. Let's start by renaming the 'Completed Date' column name so that it's just one word in order to make manipulating\n",
    "#it easier.\n",
    "df5 = df4.rename(index=str, columns={\"Completed Date\": \"Completed_Date\"})\n",
    "df5.head()"
   ]
  },
  {
   "cell_type": "code",
   "execution_count": 201,
   "metadata": {},
   "outputs": [
    {
     "data": {
      "text/html": [
       "<div>\n",
       "<style scoped>\n",
       "    .dataframe tbody tr th:only-of-type {\n",
       "        vertical-align: middle;\n",
       "    }\n",
       "\n",
       "    .dataframe tbody tr th {\n",
       "        vertical-align: top;\n",
       "    }\n",
       "\n",
       "    .dataframe thead th {\n",
       "        text-align: right;\n",
       "    }\n",
       "</style>\n",
       "<table border=\"1\" class=\"dataframe\">\n",
       "  <thead>\n",
       "    <tr style=\"text-align: right;\">\n",
       "      <th></th>\n",
       "      <th>Permit Number</th>\n",
       "      <th>Current Status</th>\n",
       "      <th>Completed_Date</th>\n",
       "      <th>Year</th>\n",
       "      <th>Month</th>\n",
       "    </tr>\n",
       "  </thead>\n",
       "  <tbody>\n",
       "    <tr>\n",
       "      <th>3</th>\n",
       "      <td>201611072166</td>\n",
       "      <td>complete</td>\n",
       "      <td>2017-07-24</td>\n",
       "      <td>2017</td>\n",
       "      <td>7</td>\n",
       "    </tr>\n",
       "    <tr>\n",
       "      <th>6</th>\n",
       "      <td>201706300814</td>\n",
       "      <td>complete</td>\n",
       "      <td>2017-07-12</td>\n",
       "      <td>2017</td>\n",
       "      <td>7</td>\n",
       "    </tr>\n",
       "    <tr>\n",
       "      <th>48</th>\n",
       "      <td>201710110928</td>\n",
       "      <td>complete</td>\n",
       "      <td>2017-10-31</td>\n",
       "      <td>2017</td>\n",
       "      <td>10</td>\n",
       "    </tr>\n",
       "    <tr>\n",
       "      <th>91</th>\n",
       "      <td>201407080724</td>\n",
       "      <td>complete</td>\n",
       "      <td>2017-09-08</td>\n",
       "      <td>2017</td>\n",
       "      <td>9</td>\n",
       "    </tr>\n",
       "    <tr>\n",
       "      <th>92</th>\n",
       "      <td>201408254591</td>\n",
       "      <td>complete</td>\n",
       "      <td>2017-10-04</td>\n",
       "      <td>2017</td>\n",
       "      <td>10</td>\n",
       "    </tr>\n",
       "  </tbody>\n",
       "</table>\n",
       "</div>"
      ],
      "text/plain": [
       "   Permit Number Current Status Completed_Date  Year  Month\n",
       "3   201611072166       complete     2017-07-24  2017      7\n",
       "6   201706300814       complete     2017-07-12  2017      7\n",
       "48  201710110928       complete     2017-10-31  2017     10\n",
       "91  201407080724       complete     2017-09-08  2017      9\n",
       "92  201408254591       complete     2017-10-04  2017     10"
      ]
     },
     "execution_count": 201,
     "metadata": {},
     "output_type": "execute_result"
    }
   ],
   "source": [
    "#Now, let's separate out the month and year from the Completed_Date column and making them their own columns. \n",
    "df5['Completed_Date'] = pd.to_datetime(df5['Completed_Date'])\n",
    "df5['Year'] = df5.Completed_Date.dt.year\n",
    "df5['Month'] = df5.Completed_Date.dt.month\n",
    "df5.head()"
   ]
  },
  {
   "cell_type": "code",
   "execution_count": 202,
   "metadata": {},
   "outputs": [
    {
     "name": "stdout",
     "output_type": "stream",
     "text": [
      "Completed_Year  Completed_Month\n",
      "2013            1                   163\n",
      "                2                   390\n",
      "                3                   595\n",
      "                4                   760\n",
      "                5                   916\n",
      "                6                   879\n",
      "                7                  1119\n",
      "                8                  1171\n",
      "                9                  1043\n",
      "                10                 1594\n",
      "                11                 1126\n",
      "                12                 1290\n",
      "2014            1                  1411\n",
      "                2                  1165\n",
      "                3                  1338\n",
      "                4                  1497\n",
      "                5                  1557\n",
      "                6                  1432\n",
      "                7                  1406\n",
      "                8                  1467\n",
      "                9                  1465\n",
      "                10                 1624\n",
      "                11                 1362\n",
      "                12                 1473\n",
      "2015            1                  1395\n",
      "                2                  1464\n",
      "                3                  1592\n",
      "                4                  1498\n",
      "                5                  1483\n",
      "                6                  1609\n",
      "                                   ... \n",
      "                9                  1353\n",
      "                10                 1689\n",
      "                11                 1469\n",
      "                12                 1733\n",
      "2016            1                  1443\n",
      "                2                  1582\n",
      "                3                  1830\n",
      "                4                  1693\n",
      "                5                  1702\n",
      "                6                  1750\n",
      "                7                  1584\n",
      "                8                  1775\n",
      "                9                  1502\n",
      "                10                 1670\n",
      "                11                 1780\n",
      "                12                 1641\n",
      "2017            1                  1349\n",
      "                2                  1427\n",
      "                3                  1879\n",
      "                4                  1507\n",
      "                5                  1686\n",
      "                6                  1624\n",
      "                7                  1434\n",
      "                8                  1739\n",
      "                9                  1580\n",
      "                10                 1955\n",
      "                11                 1558\n",
      "                12                 1622\n",
      "2018            1                  1652\n",
      "                2                  1258\n",
      "Name: Completed_Date, Length: 62, dtype: int64\n"
     ]
    }
   ],
   "source": [
    "#Great. Now let's use the groupby function to count the number of  permits completed by year and month.\n",
    "df6 = df5.Completed_Date.groupby([df5.Completed_Date.dt.year.rename('Completed_Year'), df5.Completed_Date.dt.month.rename('Completed_Month')]).agg('count')\n",
    "print(df6)"
   ]
  },
  {
   "cell_type": "code",
   "execution_count": 124,
   "metadata": {},
   "outputs": [],
   "source": [
    "#Great. This is what we wanted. Now let's convert the result, a grouped series, back into to a dataframe and rename\n",
    "#the last column as \"Completed_Permits\". \n",
    "df7 = df6.rename('Completed_Permits').reset_index()"
   ]
  },
  {
   "cell_type": "code",
   "execution_count": 125,
   "metadata": {
    "scrolled": true
   },
   "outputs": [
    {
     "data": {
      "text/html": [
       "<div>\n",
       "<style scoped>\n",
       "    .dataframe tbody tr th:only-of-type {\n",
       "        vertical-align: middle;\n",
       "    }\n",
       "\n",
       "    .dataframe tbody tr th {\n",
       "        vertical-align: top;\n",
       "    }\n",
       "\n",
       "    .dataframe thead th {\n",
       "        text-align: right;\n",
       "    }\n",
       "</style>\n",
       "<table border=\"1\" class=\"dataframe\">\n",
       "  <thead>\n",
       "    <tr style=\"text-align: right;\">\n",
       "      <th></th>\n",
       "      <th>Completed_Year</th>\n",
       "      <th>Completed_Month</th>\n",
       "      <th>Completed_Permits</th>\n",
       "    </tr>\n",
       "  </thead>\n",
       "  <tbody>\n",
       "    <tr>\n",
       "      <th>0</th>\n",
       "      <td>2013</td>\n",
       "      <td>1</td>\n",
       "      <td>163</td>\n",
       "    </tr>\n",
       "    <tr>\n",
       "      <th>1</th>\n",
       "      <td>2013</td>\n",
       "      <td>2</td>\n",
       "      <td>390</td>\n",
       "    </tr>\n",
       "    <tr>\n",
       "      <th>2</th>\n",
       "      <td>2013</td>\n",
       "      <td>3</td>\n",
       "      <td>595</td>\n",
       "    </tr>\n",
       "    <tr>\n",
       "      <th>3</th>\n",
       "      <td>2013</td>\n",
       "      <td>4</td>\n",
       "      <td>760</td>\n",
       "    </tr>\n",
       "    <tr>\n",
       "      <th>4</th>\n",
       "      <td>2013</td>\n",
       "      <td>5</td>\n",
       "      <td>916</td>\n",
       "    </tr>\n",
       "  </tbody>\n",
       "</table>\n",
       "</div>"
      ],
      "text/plain": [
       "   Completed_Year  Completed_Month  Completed_Permits\n",
       "0            2013                1                163\n",
       "1            2013                2                390\n",
       "2            2013                3                595\n",
       "3            2013                4                760\n",
       "4            2013                5                916"
      ]
     },
     "execution_count": 125,
     "metadata": {},
     "output_type": "execute_result"
    }
   ],
   "source": [
    "df7.head()"
   ]
  },
  {
   "cell_type": "code",
   "execution_count": 126,
   "metadata": {},
   "outputs": [
    {
     "data": {
      "text/html": [
       "<div>\n",
       "<style scoped>\n",
       "    .dataframe tbody tr th:only-of-type {\n",
       "        vertical-align: middle;\n",
       "    }\n",
       "\n",
       "    .dataframe tbody tr th {\n",
       "        vertical-align: top;\n",
       "    }\n",
       "\n",
       "    .dataframe thead th {\n",
       "        text-align: right;\n",
       "    }\n",
       "</style>\n",
       "<table border=\"1\" class=\"dataframe\">\n",
       "  <thead>\n",
       "    <tr style=\"text-align: right;\">\n",
       "      <th></th>\n",
       "      <th>Completed_Year</th>\n",
       "      <th>Completed_Month</th>\n",
       "      <th>Completed_Permits</th>\n",
       "    </tr>\n",
       "  </thead>\n",
       "  <tbody>\n",
       "    <tr>\n",
       "      <th>57</th>\n",
       "      <td>2017</td>\n",
       "      <td>10</td>\n",
       "      <td>1955</td>\n",
       "    </tr>\n",
       "    <tr>\n",
       "      <th>58</th>\n",
       "      <td>2017</td>\n",
       "      <td>11</td>\n",
       "      <td>1558</td>\n",
       "    </tr>\n",
       "    <tr>\n",
       "      <th>59</th>\n",
       "      <td>2017</td>\n",
       "      <td>12</td>\n",
       "      <td>1622</td>\n",
       "    </tr>\n",
       "    <tr>\n",
       "      <th>60</th>\n",
       "      <td>2018</td>\n",
       "      <td>1</td>\n",
       "      <td>1652</td>\n",
       "    </tr>\n",
       "    <tr>\n",
       "      <th>61</th>\n",
       "      <td>2018</td>\n",
       "      <td>2</td>\n",
       "      <td>1258</td>\n",
       "    </tr>\n",
       "  </tbody>\n",
       "</table>\n",
       "</div>"
      ],
      "text/plain": [
       "    Completed_Year  Completed_Month  Completed_Permits\n",
       "57            2017               10               1955\n",
       "58            2017               11               1558\n",
       "59            2017               12               1622\n",
       "60            2018                1               1652\n",
       "61            2018                2               1258"
      ]
     },
     "execution_count": 126,
     "metadata": {},
     "output_type": "execute_result"
    }
   ],
   "source": [
    "df7.tail()"
   ]
  },
  {
   "cell_type": "code",
   "execution_count": 127,
   "metadata": {},
   "outputs": [],
   "source": [
    "#That's our result! Now let's export this dataframe into a csv in case we want to work with it later. \n",
    "df7.to_csv('Completed_Permits_by_Month.csv')"
   ]
  },
  {
   "cell_type": "code",
   "execution_count": 132,
   "metadata": {
    "scrolled": false
   },
   "outputs": [
    {
     "data": {
      "text/html": [
       "<div>\n",
       "<style scoped>\n",
       "    .dataframe tbody tr th:only-of-type {\n",
       "        vertical-align: middle;\n",
       "    }\n",
       "\n",
       "    .dataframe tbody tr th {\n",
       "        vertical-align: top;\n",
       "    }\n",
       "\n",
       "    .dataframe thead th {\n",
       "        text-align: right;\n",
       "    }\n",
       "</style>\n",
       "<table border=\"1\" class=\"dataframe\">\n",
       "  <thead>\n",
       "    <tr style=\"text-align: right;\">\n",
       "      <th>Completed_Month</th>\n",
       "      <th>1</th>\n",
       "      <th>2</th>\n",
       "      <th>3</th>\n",
       "      <th>4</th>\n",
       "      <th>5</th>\n",
       "      <th>6</th>\n",
       "      <th>7</th>\n",
       "      <th>8</th>\n",
       "      <th>9</th>\n",
       "      <th>10</th>\n",
       "      <th>11</th>\n",
       "      <th>12</th>\n",
       "    </tr>\n",
       "    <tr>\n",
       "      <th>Completed_Year</th>\n",
       "      <th></th>\n",
       "      <th></th>\n",
       "      <th></th>\n",
       "      <th></th>\n",
       "      <th></th>\n",
       "      <th></th>\n",
       "      <th></th>\n",
       "      <th></th>\n",
       "      <th></th>\n",
       "      <th></th>\n",
       "      <th></th>\n",
       "      <th></th>\n",
       "    </tr>\n",
       "  </thead>\n",
       "  <tbody>\n",
       "    <tr>\n",
       "      <th>2013</th>\n",
       "      <td>163.0</td>\n",
       "      <td>390.0</td>\n",
       "      <td>595.0</td>\n",
       "      <td>760.0</td>\n",
       "      <td>916.0</td>\n",
       "      <td>879.0</td>\n",
       "      <td>1119.0</td>\n",
       "      <td>1171.0</td>\n",
       "      <td>1043.0</td>\n",
       "      <td>1594.0</td>\n",
       "      <td>1126.0</td>\n",
       "      <td>1290.0</td>\n",
       "    </tr>\n",
       "    <tr>\n",
       "      <th>2014</th>\n",
       "      <td>1411.0</td>\n",
       "      <td>1165.0</td>\n",
       "      <td>1338.0</td>\n",
       "      <td>1497.0</td>\n",
       "      <td>1557.0</td>\n",
       "      <td>1432.0</td>\n",
       "      <td>1406.0</td>\n",
       "      <td>1467.0</td>\n",
       "      <td>1465.0</td>\n",
       "      <td>1624.0</td>\n",
       "      <td>1362.0</td>\n",
       "      <td>1473.0</td>\n",
       "    </tr>\n",
       "    <tr>\n",
       "      <th>2015</th>\n",
       "      <td>1395.0</td>\n",
       "      <td>1464.0</td>\n",
       "      <td>1592.0</td>\n",
       "      <td>1498.0</td>\n",
       "      <td>1483.0</td>\n",
       "      <td>1609.0</td>\n",
       "      <td>1618.0</td>\n",
       "      <td>1474.0</td>\n",
       "      <td>1353.0</td>\n",
       "      <td>1689.0</td>\n",
       "      <td>1469.0</td>\n",
       "      <td>1733.0</td>\n",
       "    </tr>\n",
       "    <tr>\n",
       "      <th>2016</th>\n",
       "      <td>1443.0</td>\n",
       "      <td>1582.0</td>\n",
       "      <td>1830.0</td>\n",
       "      <td>1693.0</td>\n",
       "      <td>1702.0</td>\n",
       "      <td>1750.0</td>\n",
       "      <td>1584.0</td>\n",
       "      <td>1775.0</td>\n",
       "      <td>1502.0</td>\n",
       "      <td>1670.0</td>\n",
       "      <td>1780.0</td>\n",
       "      <td>1641.0</td>\n",
       "    </tr>\n",
       "    <tr>\n",
       "      <th>2017</th>\n",
       "      <td>1349.0</td>\n",
       "      <td>1427.0</td>\n",
       "      <td>1879.0</td>\n",
       "      <td>1507.0</td>\n",
       "      <td>1686.0</td>\n",
       "      <td>1624.0</td>\n",
       "      <td>1434.0</td>\n",
       "      <td>1739.0</td>\n",
       "      <td>1580.0</td>\n",
       "      <td>1955.0</td>\n",
       "      <td>1558.0</td>\n",
       "      <td>1622.0</td>\n",
       "    </tr>\n",
       "    <tr>\n",
       "      <th>2018</th>\n",
       "      <td>1652.0</td>\n",
       "      <td>1258.0</td>\n",
       "      <td>NaN</td>\n",
       "      <td>NaN</td>\n",
       "      <td>NaN</td>\n",
       "      <td>NaN</td>\n",
       "      <td>NaN</td>\n",
       "      <td>NaN</td>\n",
       "      <td>NaN</td>\n",
       "      <td>NaN</td>\n",
       "      <td>NaN</td>\n",
       "      <td>NaN</td>\n",
       "    </tr>\n",
       "  </tbody>\n",
       "</table>\n",
       "</div>"
      ],
      "text/plain": [
       "Completed_Month      1       2       3       4       5       6       7   \\\n",
       "Completed_Year                                                            \n",
       "2013              163.0   390.0   595.0   760.0   916.0   879.0  1119.0   \n",
       "2014             1411.0  1165.0  1338.0  1497.0  1557.0  1432.0  1406.0   \n",
       "2015             1395.0  1464.0  1592.0  1498.0  1483.0  1609.0  1618.0   \n",
       "2016             1443.0  1582.0  1830.0  1693.0  1702.0  1750.0  1584.0   \n",
       "2017             1349.0  1427.0  1879.0  1507.0  1686.0  1624.0  1434.0   \n",
       "2018             1652.0  1258.0     NaN     NaN     NaN     NaN     NaN   \n",
       "\n",
       "Completed_Month      8       9       10      11      12  \n",
       "Completed_Year                                           \n",
       "2013             1171.0  1043.0  1594.0  1126.0  1290.0  \n",
       "2014             1467.0  1465.0  1624.0  1362.0  1473.0  \n",
       "2015             1474.0  1353.0  1689.0  1469.0  1733.0  \n",
       "2016             1775.0  1502.0  1670.0  1780.0  1641.0  \n",
       "2017             1739.0  1580.0  1955.0  1558.0  1622.0  \n",
       "2018                NaN     NaN     NaN     NaN     NaN  "
      ]
     },
     "execution_count": 132,
     "metadata": {},
     "output_type": "execute_result"
    }
   ],
   "source": [
    "#Now, let's visualize the data in here. We could start by making a stacked bar chart that displays the number of \n",
    "#permit applications marked complete each month by year (so six \"Year\" bars spanning 2013-2018, each containing 12\n",
    "#\"patches\" or \"stacks\" that display the amount of permits completed by month). \n",
    "\n",
    "#In order to do that, let's invoke the matplotlib package inline to view the visualiations in our code. I'll also \n",
    "#convert the dataframe into a pivot table to make it easier to turn into a stacked plot. \n",
    "\n",
    "%matplotlib inline\n",
    "\n",
    "pivot_df = df7.pivot(index='Completed_Year', columns='Completed_Month', values='Completed_Permits')\n",
    "pivot_df"
   ]
  },
  {
   "cell_type": "code",
   "execution_count": 181,
   "metadata": {
    "scrolled": false
   },
   "outputs": [
    {
     "data": {
      "image/png": "[encoded data removed]",
      "text/plain": [
       "<matplotlib.figure.Figure at 0x1165c34e0>"
      ]
     },
     "metadata": {},
     "output_type": "display_data"
    }
   ],
   "source": [
    "#Great. Now let's build our stacked plot. \n",
    "\n",
    "permits_stacked_plot = pivot_df.loc[:,[1,2, 3, 4, 5, 6, 7, 8, 9, 10, 11, 12]].plot.bar(stacked=True, figsize=(10,7))\n",
    "\n",
    "permits_stacked_plot.set_xlabel('Number of Completed Permits')\n",
    "permits_stacked_plot.set_ylabel('Year')\n",
    "permits_stacked_plot.set_title('Number of Completed Permits by Month from Jan 2013-Feb 2018', fontsize=16)\n",
    "\n",
    "\n",
    "for p in permits_stacked_plot.patches:\n",
    "    width, height = p.get_width(), p.get_height()\n",
    "    x, y = p.get_xy() \n",
    "    permits_stacked_plot.annotate('{:.0f} '.format(height), (p.get_x()+.15*width, p.get_y()+.4*height))"
   ]
  },
  {
   "cell_type": "code",
   "execution_count": 203,
   "metadata": {
    "scrolled": true
   },
   "outputs": [
    {
     "data": {
      "text/html": [
       "<div>\n",
       "<style scoped>\n",
       "    .dataframe tbody tr th:only-of-type {\n",
       "        vertical-align: middle;\n",
       "    }\n",
       "\n",
       "    .dataframe tbody tr th {\n",
       "        vertical-align: top;\n",
       "    }\n",
       "\n",
       "    .dataframe thead th {\n",
       "        text-align: right;\n",
       "    }\n",
       "</style>\n",
       "<table border=\"1\" class=\"dataframe\">\n",
       "  <thead>\n",
       "    <tr style=\"text-align: right;\">\n",
       "      <th></th>\n",
       "      <th>Months since 2013</th>\n",
       "      <th>Number of Completed Permits</th>\n",
       "    </tr>\n",
       "  </thead>\n",
       "  <tbody>\n",
       "    <tr>\n",
       "      <th>0</th>\n",
       "      <td>0</td>\n",
       "      <td>163</td>\n",
       "    </tr>\n",
       "    <tr>\n",
       "      <th>1</th>\n",
       "      <td>1</td>\n",
       "      <td>390</td>\n",
       "    </tr>\n",
       "    <tr>\n",
       "      <th>2</th>\n",
       "      <td>2</td>\n",
       "      <td>595</td>\n",
       "    </tr>\n",
       "    <tr>\n",
       "      <th>3</th>\n",
       "      <td>3</td>\n",
       "      <td>760</td>\n",
       "    </tr>\n",
       "    <tr>\n",
       "      <th>4</th>\n",
       "      <td>4</td>\n",
       "      <td>916</td>\n",
       "    </tr>\n",
       "  </tbody>\n",
       "</table>\n",
       "</div>"
      ],
      "text/plain": [
       "   Months since 2013  Number of Completed Permits\n",
       "0                  0                          163\n",
       "1                  1                          390\n",
       "2                  2                          595\n",
       "3                  3                          760\n",
       "4                  4                          916"
      ]
     },
     "execution_count": 203,
     "metadata": {},
     "output_type": "execute_result"
    }
   ],
   "source": [
    "#However, this visualization is a little clunky and doesn't allow us to get a feel for the \"trend\" of permits \n",
    "#completed by month and year. This brings a line plot to mind. We can make an effective line plot by graphing the number\n",
    "#of completed permits over time. Since we have to deal with the month and year, we can simply turn refer to each month\n",
    "#as its relationship to Jan 2013, the starting point in our data. Jan 2013 would be 0 months since Jan 2013, Feb would\n",
    "#be 1 month, March would be 2 months, so on and so forth all the way through to Feb 2018. \n",
    "\n",
    "#To do this, I'm going to create a new dataframe with a column called \"Months since 2013\" which should go from 0-61.\n",
    "l = []\n",
    "l.extend(range(0, 62))\n",
    "permits_since_2013 = {\"Months since 2013\" : l, \"Number of Completed Permits\" : df7.Completed_Permits}\n",
    "df_permits2013 = pd.DataFrame(permits_since_2013)\n",
    "df_permits2013.head()"
   ]
  },
  {
   "cell_type": "code",
   "execution_count": 206,
   "metadata": {},
   "outputs": [
    {
     "data": {
      "text/plain": [
       "Text(0,0.5,'Number of Completed Permits')"
      ]
     },
     "execution_count": 206,
     "metadata": {},
     "output_type": "execute_result"
    },
    {
     "data": {
      "image/png": "[encoded data removed]",
      "text/plain": [
       "<matplotlib.figure.Figure at 0x11060e198>"
      ]
     },
     "metadata": {},
     "output_type": "display_data"
    }
   ],
   "source": [
    "#Great. Next, I'll convert this dataframe into a line plot. \n",
    "line_plot = df_permits2013.plot(kind='line',x='Months since 2013',y='Number of Completed Permits', color=('Purple'), figsize=(10,8))\n",
    "line_plot.set_title('Number of Completed Permits by Month from Jan 2013-Feb 2018', fontsize=14)\n",
    "line_plot.set_ylabel('Number of Completed Permits')"
   ]
  }
 ],
 "metadata": {
  "kernelspec": {
   "display_name": "Python 3",
   "language": "python",
   "name": "python3"
  },
  "language_info": {
   "codemirror_mode": {
    "name": "ipython",
    "version": 3
   },
   "file_extension": ".py",
   "mimetype": "text/x-python",
   "name": "python",
   "nbconvert_exporter": "python",
   "pygments_lexer": "ipython3",
   "version": "3.6.4"
  }
 },
 "nbformat": 4,
 "nbformat_minor": 2
}
